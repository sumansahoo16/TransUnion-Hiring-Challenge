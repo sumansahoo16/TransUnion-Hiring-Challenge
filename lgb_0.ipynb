{
 "cells": [
  {
   "cell_type": "code",
   "execution_count": 1,
   "id": "dressed-engagement",
   "metadata": {},
   "outputs": [],
   "source": [
    "import numpy as np\n",
    "import pandas as pd\n",
    "import matplotlib.pyplot as plt\n",
    "\n",
    "import lightgbm as lgb \n",
    "pd.set_option('display.max_columns', 200)"
   ]
  },
  {
   "cell_type": "code",
   "execution_count": 2,
   "id": "hired-concept",
   "metadata": {},
   "outputs": [
    {
     "name": "stderr",
     "output_type": "stream",
     "text": [
      "C:\\Users\\DELL\\miniconda3\\lib\\site-packages\\IPython\\core\\interactiveshell.py:3427: DtypeWarning: Columns (26) have mixed types.Specify dtype option on import or set low_memory=False.\n",
      "  exec(code_obj, self.user_global_ns, self.user_ns)\n"
     ]
    }
   ],
   "source": [
    "data = pd.read_csv('train.csv')\n",
    "test = pd.read_csv('test.csv')"
   ]
  },
  {
   "cell_type": "code",
   "execution_count": 3,
   "id": "mathematical-regression",
   "metadata": {},
   "outputs": [],
   "source": [
    "def split_loan(x):\n",
    "    x = str(x)\n",
    "    x = x.replace('and', '')\n",
    "    y = x.split(',')\n",
    "    z = [i.replace(' ', '') for i in y]\n",
    "    return z\n",
    "\n",
    "data['Type_of_Loan'] = data['Type_of_Loan'].apply(lambda x: split_loan(x))\n",
    "test['Type_of_Loan'] = test['Type_of_Loan'].apply(lambda x: split_loan(x))\n",
    "\n",
    "loans = ['AutoLoan',\n",
    " 'Credit-BuilderLoan',\n",
    " 'DebtConsolidationLoan',\n",
    " 'HomeEquityLoan',\n",
    " 'MortgageLoan',\n",
    " 'NotSpecified',\n",
    " 'PaydayLoan',\n",
    " 'PersonalLoan',\n",
    " 'StudentLoan',\n",
    " 'nan']\n",
    "\n",
    "for col in loans:\n",
    "    \n",
    "    data[col] = data['Type_of_Loan'].apply(lambda x: x.count(col))\n",
    "    test[col] = test['Type_of_Loan'].apply(lambda x: x.count(col))"
   ]
  },
  {
   "cell_type": "code",
   "execution_count": 4,
   "id": "weighted-profit",
   "metadata": {},
   "outputs": [],
   "source": [
    "Occupation = ['Scientist', '_______', 'Teacher', 'Engineer', 'Entrepreneur',\n",
    "       'Developer', 'Lawyer', 'Media_Manager', 'Doctor', 'Journalist',\n",
    "       'Manager', 'Accountant', 'Musician', 'Mechanic', 'Writer',\n",
    "       'Architect']\n",
    "\n",
    "Occupation_dict = {}\n",
    "for i, o in enumerate(Occupation):\n",
    "    Occupation_dict[o] = i\n",
    "\n",
    "data['Occupation'] = data['Occupation'].map(Occupation_dict)\n",
    "test['Occupation'] = test['Occupation'].map(Occupation_dict)"
   ]
  },
  {
   "cell_type": "code",
   "execution_count": 5,
   "id": "bound-rebound",
   "metadata": {},
   "outputs": [],
   "source": [
    "data['Age'] = data['Age'].apply(lambda x : x.replace('_', ''))\n",
    "test['Age'] = test['Age'].apply(lambda x : x.replace('_', ''))\n",
    "\n",
    "data['Age'] = data['Age'].astype(float)\n",
    "test['Age'] = test['Age'].astype(float)"
   ]
  },
  {
   "cell_type": "code",
   "execution_count": 6,
   "id": "prescribed-installation",
   "metadata": {},
   "outputs": [],
   "source": [
    "data['Annual_Income'] = data['Annual_Income'].apply(lambda x : float(x[:-1]) if x[-1] == '_' else float(x))\n",
    "test['Annual_Income'] = test['Annual_Income'].apply(lambda x : float(x[:-1]) if x[-1] == '_' else float(x))"
   ]
  },
  {
   "cell_type": "code",
   "execution_count": 7,
   "id": "hollow-microphone",
   "metadata": {},
   "outputs": [],
   "source": [
    "data['Interest_Rate'] = data['Interest_Rate'].apply(lambda x : int(str(x)[0]))\n",
    "test['Interest_Rate'] = test['Interest_Rate'].apply(lambda x : int(str(x)[0]))"
   ]
  },
  {
   "cell_type": "code",
   "execution_count": 8,
   "id": "continental-origin",
   "metadata": {},
   "outputs": [],
   "source": [
    "data['Num_of_Loan'] = data['Num_of_Loan'].apply(lambda x : -1 if x =='-100' else int(x[0]))\n",
    "test['Num_of_Loan'] = test['Num_of_Loan'].apply(lambda x : -1 if x =='-100' else int(x[0]))"
   ]
  },
  {
   "cell_type": "code",
   "execution_count": 9,
   "id": "earned-liberty",
   "metadata": {},
   "outputs": [],
   "source": [
    "data['Num_of_Delayed_Payment'] = data['Num_of_Delayed_Payment'].fillna('-999')\n",
    "test['Num_of_Delayed_Payment'] = test['Num_of_Delayed_Payment'].fillna('-999')\n",
    "\n",
    "data['Num_of_Delayed_Payment'] = data['Num_of_Delayed_Payment'].apply(lambda x : float(x[:-1]) if x[-1] == '_' else float(x))\n",
    "test['Num_of_Delayed_Payment'] = test['Num_of_Delayed_Payment'].apply(lambda x : float(x[:-1]) if x[-1] == '_' else float(x))"
   ]
  },
  {
   "cell_type": "code",
   "execution_count": 10,
   "id": "clinical-semiconductor",
   "metadata": {},
   "outputs": [],
   "source": [
    "data['Changed_Credit_Limit'] = data['Changed_Credit_Limit'].apply(lambda x : x.replace('_', '-999.99'))\n",
    "test['Changed_Credit_Limit'] = test['Changed_Credit_Limit'].apply(lambda x : x.replace('_', '-999.99'))\n",
    "\n",
    "data['Changed_Credit_Limit'] = data['Changed_Credit_Limit'].apply(lambda x : float(x[:-1]) if x[-1] == '_' else float(x))\n",
    "test['Changed_Credit_Limit'] = test['Changed_Credit_Limit'].apply(lambda x : float(x[:-1]) if x[-1] == '_' else float(x))"
   ]
  },
  {
   "cell_type": "code",
   "execution_count": 11,
   "id": "announced-branch",
   "metadata": {},
   "outputs": [],
   "source": [
    "data['Num_Credit_Inquiries'] = data['Num_Credit_Inquiries'].fillna('-999.99')\n",
    "test['Num_Credit_Inquiries'] = test['Num_Credit_Inquiries'].fillna('-999.99')\n",
    "\n",
    "data['Num_Credit_Inquiries'] = data['Num_Credit_Inquiries'].apply(lambda x: float(str(x)[0] if float(x) >= 0.0 else x))\n",
    "test['Num_Credit_Inquiries'] = test['Num_Credit_Inquiries'].apply(lambda x: float(str(x)[0] if float(x) >= 0.0 else x))"
   ]
  },
  {
   "cell_type": "code",
   "execution_count": 12,
   "id": "organized-charleston",
   "metadata": {},
   "outputs": [],
   "source": [
    "Credit_Mix = {'Bad' : -1, 'Good' : 1, 'Standard' : 0, '_' : 0}\n",
    "\n",
    "data['Credit_Mix'] = data['Credit_Mix'].map(Credit_Mix)\n",
    "test['Credit_Mix'] = test['Credit_Mix'].map(Credit_Mix)"
   ]
  },
  {
   "cell_type": "code",
   "execution_count": 13,
   "id": "rough-brisbane",
   "metadata": {},
   "outputs": [],
   "source": [
    "data['Outstanding_Debt'] = data['Outstanding_Debt'].apply(lambda x : float(x[:-1]) if x[-1] == '_' else float(x))\n",
    "test['Outstanding_Debt'] = test['Outstanding_Debt'].apply(lambda x : float(x[:-1]) if x[-1] == '_' else float(x))"
   ]
  },
  {
   "cell_type": "code",
   "execution_count": 14,
   "id": "exclusive-valentine",
   "metadata": {},
   "outputs": [],
   "source": [
    "data['Credit_History_Age'] = data['Credit_History_Age'].fillna('0 Years and 0 Months').apply(lambda x :  100 * int(x.split('Years')[0]) + int(x.split('and')[1].replace('Months','')))\n",
    "test['Credit_History_Age'] = test['Credit_History_Age'].fillna('0 Years and 0 Months').apply(lambda x :  100 * int(x.split('Years')[0]) + int(x.split('and')[1].replace('Months','')))"
   ]
  },
  {
   "cell_type": "code",
   "execution_count": 15,
   "id": "latin-burns",
   "metadata": {},
   "outputs": [],
   "source": [
    "Payment_of_Min_Amount = {'No' : -1, 'Yes' : 1, 'NM' : 0}\n",
    "\n",
    "data['Payment_of_Min_Amount'] = data['Payment_of_Min_Amount'].map(Payment_of_Min_Amount)\n",
    "test['Payment_of_Min_Amount'] = test['Payment_of_Min_Amount'].map(Payment_of_Min_Amount)"
   ]
  },
  {
   "cell_type": "code",
   "execution_count": 16,
   "id": "beautiful-persian",
   "metadata": {},
   "outputs": [],
   "source": [
    "data['Amount_invested_monthly'] = data['Amount_invested_monthly'].fillna('-999.99')\n",
    "test['Amount_invested_monthly'] = test['Amount_invested_monthly'].fillna('-999.99')\n",
    "\n",
    "data['Amount_invested_monthly'] = data['Amount_invested_monthly'].apply(lambda x : x.replace('_', ''))\n",
    "test['Amount_invested_monthly'] = test['Amount_invested_monthly'].apply(lambda x : x.replace('_', ''))\n",
    "\n",
    "data['Amount_invested_monthly'] = data['Amount_invested_monthly'].astype(float)\n",
    "test['Amount_invested_monthly'] = test['Amount_invested_monthly'].astype(float)"
   ]
  },
  {
   "cell_type": "code",
   "execution_count": 17,
   "id": "naval-strategy",
   "metadata": {},
   "outputs": [],
   "source": [
    "Payment_Behaviour = {'!@9#%8' : 0,\n",
    " 'High_spent_Large_value_payments' : 1,\n",
    " 'High_spent_Medium_value_payments' : 2,\n",
    " 'High_spent_Small_value_payments' : 3,\n",
    " 'Low_spent_Large_value_payments' : 4,\n",
    " 'Low_spent_Medium_value_payments' : 5,\n",
    " 'Low_spent_Small_value_payments' : 6}\n",
    "\n",
    "data['Payment_Behaviour'] = data['Payment_Behaviour'].map(Payment_Behaviour)\n",
    "test['Payment_Behaviour'] = test['Payment_Behaviour'].map(Payment_Behaviour)"
   ]
  },
  {
   "cell_type": "code",
   "execution_count": 18,
   "id": "african-divide",
   "metadata": {},
   "outputs": [],
   "source": [
    "data['Monthly_Balance'] = data['Monthly_Balance'].fillna('-999.99')\n",
    "test['Monthly_Balance'] = test['Monthly_Balance'].fillna('-999.99')\n",
    "\n",
    "data['Monthly_Balance'] = data['Monthly_Balance'].apply(lambda x : str(x).replace('_', ''))\n",
    "test['Monthly_Balance'] = test['Monthly_Balance'].apply(lambda x : str(x).replace('_', ''))\n",
    "\n",
    "data['Monthly_Balance'] = data['Monthly_Balance'].astype(float)\n",
    "test['Monthly_Balance'] = test['Monthly_Balance'].astype(float)"
   ]
  },
  {
   "cell_type": "code",
   "execution_count": 19,
   "id": "dietary-government",
   "metadata": {},
   "outputs": [],
   "source": [
    "data['Credit_Score'] = data['Credit_Score'].map({'Poor': 0, 'Standard': 1, 'Good': 2})"
   ]
  },
  {
   "cell_type": "code",
   "execution_count": 20,
   "id": "armed-dylan",
   "metadata": {},
   "outputs": [],
   "source": [
    "del_cols = ['ID', 'Customer_ID', 'Month','Name', 'SSN', 'Type_of_Loan',]\n",
    "cat_cols = ['Occupation', 'Payment_Behaviour']\n",
    "num_cols = ['Age', 'Annual_Income', 'Monthly_Inhand_Salary', 'Num_Bank_Accounts', 'Num_Credit_Card', \n",
    "           'Interest_Rate', 'Num_of_Loan', 'Delay_from_due_date', 'Num_of_Delayed_Payment', 'Changed_Credit_Limit',\n",
    "           'Num_Credit_Inquiries', 'Credit_Mix','Outstanding_Debt','Credit_Utilization_Ratio', 'Credit_History_Age',\n",
    "           'Payment_of_Min_Amount','Total_EMI_per_month', 'Amount_invested_monthly', 'Monthly_Balance']\n",
    "\n",
    "# Monthly_Inhand_Salary fillna requires\n",
    "\n",
    "cols = cat_cols + num_cols + loans"
   ]
  },
  {
   "cell_type": "code",
   "execution_count": 21,
   "id": "occupied-kansas",
   "metadata": {},
   "outputs": [],
   "source": [
    "data['split'] = data['Month'].apply(lambda x: 1 if x in ['July', 'August'] else 0)"
   ]
  },
  {
   "cell_type": "code",
   "execution_count": 22,
   "id": "elder-portsmouth",
   "metadata": {},
   "outputs": [],
   "source": [
    "train = data[data['split'] == 0]\n",
    "valid = data[data['split'] == 1]\n",
    "\n",
    "train_dataset = lgb.Dataset(train[cols], train['Credit_Score'])\n",
    "valid_dataset = lgb.Dataset(valid[cols], valid['Credit_Score'])"
   ]
  },
  {
   "cell_type": "code",
   "execution_count": 25,
   "id": "robust-plane",
   "metadata": {},
   "outputs": [],
   "source": [
    "lgb_params = {\n",
    "    'boosting_type': 'gbdt',\n",
    "    #'objective': 'multiclass',\n",
    "    'objective': 'ovr',\n",
    "    #'metric': 'ovr',\n",
    "    'num_class' : 3,\n",
    "    #'num_iterations' : 4000,\n",
    "    #'learning_rate' : 0.05,\n",
    "    #'min_data_in_leaf' : 75,\n",
    "    #'num_leaves' : 71,\n",
    "    'categorical_feature' : [0,1],\n",
    "     #'feature_fraction' : 0.5,\n",
    "    #'bagging_fraction' : 0.8,\n",
    "    #'bagging_freq' : 1,\n",
    "    #'lambda_l1' : 0.0,\n",
    "    #'lambda_l2' : 0.0,\n",
    "    'nthread': 1,\n",
    "    'seed' : 16,\n",
    "}"
   ]
  },
  {
   "cell_type": "code",
   "execution_count": 26,
   "id": "prerequisite-childhood",
   "metadata": {},
   "outputs": [
    {
     "name": "stdout",
     "output_type": "stream",
     "text": [
      "[LightGBM] [Info] Number of positive: 21782, number of negative: 53218\n",
      "[LightGBM] [Info] Number of positive: 40214, number of negative: 34786\n",
      "[LightGBM] [Info] Number of positive: 13004, number of negative: 61996\n",
      "[LightGBM] [Warning] Auto-choosing col-wise multi-threading, the overhead of testing was 0.025006 seconds.\n",
      "You can set `force_col_wise=true` to remove the overhead.\n",
      "[LightGBM] [Info] Total Bins 3493\n",
      "[LightGBM] [Info] Number of data points in the train set: 75000, number of used features: 31\n",
      "[LightGBM] [Info] [binary:BoostFromScore]: pavg=0.290427 -> initscore=-0.893313\n",
      "[LightGBM] [Info] Start training from score -0.893313\n",
      "[LightGBM] [Info] [binary:BoostFromScore]: pavg=0.536187 -> initscore=0.145000\n",
      "[LightGBM] [Info] Start training from score 0.145000\n",
      "[LightGBM] [Info] [binary:BoostFromScore]: pavg=0.173387 -> initscore=-1.561813\n",
      "[LightGBM] [Info] Start training from score -1.561813\n",
      "Training until validation scores don't improve for 50 rounds\n",
      "[50]\ttraining's multi_logloss: 0.585592\tvalid_1's multi_logloss: 0.794763\n",
      "[100]\ttraining's multi_logloss: 0.541927\tvalid_1's multi_logloss: 0.776033\n",
      "Did not meet early stopping. Best iteration is:\n",
      "[100]\ttraining's multi_logloss: 0.541927\tvalid_1's multi_logloss: 0.776033\n"
     ]
    }
   ],
   "source": [
    "model = lgb.train(params = lgb_params,\n",
    "                          train_set = train_dataset, \n",
    "                          valid_sets = [train_dataset, valid_dataset], \n",
    "                          verbose_eval = 50,\n",
    "                          early_stopping_rounds=50)"
   ]
  },
  {
   "cell_type": "code",
   "execution_count": 29,
   "id": "steady-smooth",
   "metadata": {},
   "outputs": [],
   "source": [
    "preds = model.predict(test[cols])"
   ]
  },
  {
   "cell_type": "code",
   "execution_count": 33,
   "id": "legitimate-looking",
   "metadata": {},
   "outputs": [],
   "source": [
    "test['Credit_Score'] = np.argmax(preds, axis = 1)\n",
    "test['Credit_Score'] = test['Credit_Score'].map({0:'Poor', 1:'Standard', 2:'Good'})"
   ]
  },
  {
   "cell_type": "code",
   "execution_count": 35,
   "id": "genetic-bowling",
   "metadata": {},
   "outputs": [],
   "source": [
    "test[['ID', 'Credit_Score']].to_csv('sub0.csv', index = False)"
   ]
  },
  {
   "cell_type": "code",
   "execution_count": null,
   "id": "becoming-nevada",
   "metadata": {},
   "outputs": [],
   "source": []
  },
  {
   "cell_type": "code",
   "execution_count": null,
   "id": "graphic-reform",
   "metadata": {},
   "outputs": [],
   "source": []
  }
 ],
 "metadata": {
  "kernelspec": {
   "display_name": "Python 3",
   "language": "python",
   "name": "python3"
  },
  "language_info": {
   "codemirror_mode": {
    "name": "ipython",
    "version": 3
   },
   "file_extension": ".py",
   "mimetype": "text/x-python",
   "name": "python",
   "nbconvert_exporter": "python",
   "pygments_lexer": "ipython3",
   "version": "3.8.8"
  }
 },
 "nbformat": 4,
 "nbformat_minor": 5
}
